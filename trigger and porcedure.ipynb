{
 "cells": [
  {
   "cell_type": "code",
   "execution_count": null,
   "metadata": {},
   "outputs": [],
   "source": []
  },
  {
   "attachments": {},
   "cell_type": "markdown",
   "metadata": {},
   "source": [
    "this code just for trigger \n",
    "there i have to table \n",
    "table 1: pather\n",
    "table 2: pather log"
   ]
  },
  {
   "cell_type": "code",
   "execution_count": null,
   "metadata": {},
   "outputs": [],
   "source": [
    "create or replace TRIGGER FATHER_TABLE_T1 \n",
    "AFTER INSERT ON PATHER \n",
    "REFERENCING OLD AS OLD NEW AS NEW \n",
    "FOR EACH ROW \n",
    "BEGIN\n",
    "  insert into father_log(\n",
    "  ID,NAME)\n",
    "  values(:NEW.ID,:NEW.NAME);\n",
    "END;"
   ]
  },
  {
   "attachments": {},
   "cell_type": "markdown",
   "metadata": {},
   "source": [
    "tihs is code for procedure \n"
   ]
  },
  {
   "cell_type": "code",
   "execution_count": null,
   "metadata": {},
   "outputs": [],
   "source": [
    "\n",
    "create or replace PROCEDURE select_proc3\n",
    "IS\n",
    "    varname varchar2(20); \n",
    "BEGIN\n",
    "    SELECT name into varname FROM pather Where ID =2; \n",
    "    DBMS_OUTPUT.PUT_LINE(varname); \n",
    "END;\n"
   ]
  }
 ],
 "metadata": {
  "language_info": {
   "name": "python"
  },
  "orig_nbformat": 4
 },
 "nbformat": 4,
 "nbformat_minor": 2
}
